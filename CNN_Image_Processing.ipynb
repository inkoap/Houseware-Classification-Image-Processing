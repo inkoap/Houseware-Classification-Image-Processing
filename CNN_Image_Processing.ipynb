{
  "nbformat": 4,
  "nbformat_minor": 0,
  "metadata": {
    "colab": {
      "provenance": []
    },
    "kernelspec": {
      "name": "python3",
      "display_name": "Python 3"
    },
    "language_info": {
      "name": "python"
    }
  },
  "cells": [
    {
      "cell_type": "code",
      "source": [
        "from google.colab import drive\n",
        "drive.mount('/content/drive')"
      ],
      "metadata": {
        "id": "rSveBjWvPhYd",
        "colab": {
          "base_uri": "https://localhost:8080/"
        },
        "outputId": "551db031-fe38-4d85-f0a5-ec8ad9d384b2"
      },
      "execution_count": null,
      "outputs": [
        {
          "output_type": "stream",
          "name": "stdout",
          "text": [
            "Drive already mounted at /content/drive; to attempt to forcibly remount, call drive.mount(\"/content/drive\", force_remount=True).\n"
          ]
        }
      ]
    },
    {
      "cell_type": "code",
      "execution_count": null,
      "metadata": {
        "id": "GkjPwpazPH3E"
      },
      "outputs": [],
      "source": [
        "import tensorflow as tf"
      ]
    },
    {
      "cell_type": "code",
      "source": [
        "main_dir = '/content/drive/MyDrive/Image Processing'"
      ],
      "metadata": {
        "id": "ogoHEDaVPf5j"
      },
      "execution_count": null,
      "outputs": []
    },
    {
      "cell_type": "code",
      "source": [
        "import pandas as pd\n",
        "import numpy as np\n",
        "\n",
        "#modul scirt learn\n",
        "from sklearn import linear_model\n",
        "from sklearn.model_selection import train_test_split\n",
        "from sklearn.metrics import mean_squared_error"
      ],
      "metadata": {
        "id": "GlvgOxPBPvb8"
      },
      "execution_count": null,
      "outputs": []
    },
    {
      "cell_type": "code",
      "source": [
        "import os\n",
        "#note: ganti variabelnya biar sama, pathnya juga (ofc)\n",
        "fold_piring = os.path.join('/content/drive/MyDrive/Image Processing/Piring Plastik')\n",
        "fold_sendok = os.path.join('/content/drive/MyDrive/Image Processing/Sendok')\n",
        "\n",
        "print('jumlah total gambar Piring :', len(os.listdir(fold_piring)))\n",
        "print('jumlah total gambar Sendok :', len(os.listdir(fold_sendok)))"
      ],
      "metadata": {
        "id": "vnwWr2-4Pz7p",
        "colab": {
          "base_uri": "https://localhost:8080/"
        },
        "outputId": "75fdb715-88b2-4ae9-f505-6afc72d879e9"
      },
      "execution_count": null,
      "outputs": [
        {
          "output_type": "stream",
          "name": "stdout",
          "text": [
            "jumlah total gambar Piring : 100\n",
            "jumlah total gambar Sendok : 100\n"
          ]
        }
      ]
    },
    {
      "cell_type": "code",
      "source": [
        "#ganti lagi euy\n",
        "print(\"Menampilkan nama file gambar :\")\n",
        "\n",
        "file_piring = os.listdir(fold_piring)\n",
        "print(\"Piring :\",file_piring[:5])\n",
        "\n",
        "file_sendok = os.listdir(fold_sendok)\n",
        "print(\"Sendok :\",file_sendok[:5])"
      ],
      "metadata": {
        "id": "ZD5gz_D7QnGX",
        "colab": {
          "base_uri": "https://localhost:8080/"
        },
        "outputId": "343050bd-01fe-477b-d2e7-c7af89c177f1"
      },
      "execution_count": null,
      "outputs": [
        {
          "output_type": "stream",
          "name": "stdout",
          "text": [
            "Menampilkan nama file gambar :\n",
            "Piring : ['Image_36.jpg', 'Image_1.jpg', 'Image_2.jpg', 'Image_6.JPG', 'Image_5.jpg']\n",
            "Sendok : ['2.sendok-masak-kayu-dan-alat-masak-dari-kayu-lainnya-_190730083219-916.jpg', '1.5ee215fb87c7b.jpg', '3.f212c24f1d778e43b0e324a0764d3ab6.jpg_720x720q80.jpg_.webp', '8.71461dddd598d7c9ce55f38600e7fc1d.jpg', '7.0713085_pe729237_s5.jpg']\n"
          ]
        }
      ]
    },
    {
      "cell_type": "code",
      "source": [
        "import tensorflow as tf\n",
        "import keras_preprocessing\n",
        "from keras_preprocessing import image\n",
        "from keras_preprocessing.image import ImageDataGenerator"
      ],
      "metadata": {
        "id": "g49593fVSG9S"
      },
      "execution_count": null,
      "outputs": []
    },
    {
      "cell_type": "code",
      "source": [
        "#ganti directory ke folder seluruh dataset\n",
        "main_dir = \"/content/drive/MyDrive/Image Processing\"\n",
        "training_datagen = ImageDataGenerator(\n",
        "        rescale = 1./255,\n",
        "#augmentasi\n",
        "        rotation_range=40,\n",
        "        width_shift_range=0.2,\n",
        "        height_shift_range=0.2,\n",
        "        shear_range=0.2,\n",
        "        zoom_range=0.2,\n",
        "        horizontal_flip=True,\n",
        "        fill_mode='nearest',\n",
        "#split data\n",
        "        validation_split=0.25\n",
        "        )\n",
        "\n",
        "train_generator = training_datagen.flow_from_directory(\n",
        "    main_dir,\n",
        "    target_size=(150,150),\n",
        "    class_mode='binary',\n",
        "    shuffle=True,\n",
        "    subset='training'\n",
        "    )\n",
        "validation_generator = training_datagen.flow_from_directory(\n",
        "    main_dir,\n",
        "    target_size=(150,150),\n",
        "    class_mode='binary',\n",
        "    shuffle=True,\n",
        "    subset='validation'\n",
        "    )"
      ],
      "metadata": {
        "id": "BTYqqVjESKin",
        "colab": {
          "base_uri": "https://localhost:8080/"
        },
        "outputId": "4b13088a-eaac-4757-9143-2bc5d95ca0ae"
      },
      "execution_count": null,
      "outputs": [
        {
          "output_type": "stream",
          "name": "stdout",
          "text": [
            "Found 143 images belonging to 2 classes.\n",
            "Found 47 images belonging to 2 classes.\n"
          ]
        }
      ]
    },
    {
      "cell_type": "code",
      "source": [
        "model = tf.keras.models.Sequential([\n",
        "    tf.keras.layers.Conv2D(32, (3,3), activation='relu', input_shape=(150, 150, 3)),\n",
        "    tf.keras.layers.MaxPooling2D(2, 2),\n",
        "    tf.keras.layers.Conv2D(64, (3,3), activation='relu'),\n",
        "    tf.keras.layers.MaxPooling2D(2,2),\n",
        "    tf.keras.layers.Conv2D(128, (3,3), activation='relu'),\n",
        "    tf.keras.layers.MaxPooling2D(2,2),\n",
        "    tf.keras.layers.Conv2D(512, (3,3), activation='relu'),\n",
        "    tf.keras.layers.MaxPooling2D(2,2),\n",
        "    tf.keras.layers.Flatten(),\n",
        "    tf.keras.layers.Dense(512, activation='relu'),\n",
        "    tf.keras.layers.Dense(1, activation='sigmoid')\n",
        "])"
      ],
      "metadata": {
        "id": "dYmdyUIQ_Y7n"
      },
      "execution_count": null,
      "outputs": []
    },
    {
      "cell_type": "code",
      "source": [
        "model.summary()"
      ],
      "metadata": {
        "colab": {
          "base_uri": "https://localhost:8080/"
        },
        "id": "ZJk3NThW_jPm",
        "outputId": "7811fe94-9263-42c1-db90-9ee98ce2b28a"
      },
      "execution_count": null,
      "outputs": [
        {
          "output_type": "stream",
          "name": "stdout",
          "text": [
            "Model: \"sequential\"\n",
            "_________________________________________________________________\n",
            " Layer (type)                Output Shape              Param #   \n",
            "=================================================================\n",
            " conv2d (Conv2D)             (None, 148, 148, 32)      896       \n",
            "                                                                 \n",
            " max_pooling2d (MaxPooling2D  (None, 74, 74, 32)       0         \n",
            " )                                                               \n",
            "                                                                 \n",
            " conv2d_1 (Conv2D)           (None, 72, 72, 64)        18496     \n",
            "                                                                 \n",
            " max_pooling2d_1 (MaxPooling  (None, 36, 36, 64)       0         \n",
            " 2D)                                                             \n",
            "                                                                 \n",
            " conv2d_2 (Conv2D)           (None, 34, 34, 128)       73856     \n",
            "                                                                 \n",
            " max_pooling2d_2 (MaxPooling  (None, 17, 17, 128)      0         \n",
            " 2D)                                                             \n",
            "                                                                 \n",
            " conv2d_3 (Conv2D)           (None, 15, 15, 512)       590336    \n",
            "                                                                 \n",
            " max_pooling2d_3 (MaxPooling  (None, 7, 7, 512)        0         \n",
            " 2D)                                                             \n",
            "                                                                 \n",
            " flatten (Flatten)           (None, 25088)             0         \n",
            "                                                                 \n",
            " dense (Dense)               (None, 512)               12845568  \n",
            "                                                                 \n",
            " dense_1 (Dense)             (None, 1)                 513       \n",
            "                                                                 \n",
            "=================================================================\n",
            "Total params: 13,529,665\n",
            "Trainable params: 13,529,665\n",
            "Non-trainable params: 0\n",
            "_________________________________________________________________\n"
          ]
        }
      ]
    },
    {
      "cell_type": "code",
      "source": [
        "# compile model dengan 'adam' optimizer loss function 'binary_crossentropy'\n",
        "model.compile(loss='binary_crossentropy',\n",
        "              optimizer=tf.optimizers.Adam(),\n",
        "              metrics=['accuracy'])"
      ],
      "metadata": {
        "id": "ph269lQ5UQJ5"
      },
      "execution_count": null,
      "outputs": []
    },
    {
      "cell_type": "code",
      "source": [
        "# latih model dengan model.fit\n",
        "history = model.fit(\n",
        "      train_generator,\n",
        "      validation_data=validation_generator, # menampilkan akurasi pengujian data validasi\n",
        "      validation_steps=2,  # berapa batch yang akan dieksekusi pada setiap epoch\n",
        "      steps_per_epoch=2,  # berapa batch yang akan dieksekusi pada setiap epoch\n",
        "      epochs=13, # tambahkan epochs jika akurasi model belum optimal\n",
        "      verbose=2)"
      ],
      "metadata": {
        "id": "pvHX_WqLUSzB",
        "colab": {
          "base_uri": "https://localhost:8080/"
        },
        "outputId": "ddc8d39e-1b5e-47fd-cb89-8d726177d336"
      },
      "execution_count": null,
      "outputs": [
        {
          "output_type": "stream",
          "name": "stdout",
          "text": [
            "Epoch 1/13\n",
            "2/2 - 18s - loss: 1.2271 - accuracy: 0.4468 - val_loss: 0.8167 - val_accuracy: 0.5319 - 18s/epoch - 9s/step\n",
            "Epoch 2/13\n",
            "2/2 - 8s - loss: 0.7414 - accuracy: 0.5312 - val_loss: 0.6918 - val_accuracy: 0.5319 - 8s/epoch - 4s/step\n",
            "Epoch 3/13\n"
          ]
        },
        {
          "output_type": "stream",
          "name": "stderr",
          "text": [
            "/usr/local/lib/python3.8/dist-packages/PIL/Image.py:959: UserWarning: Palette images with Transparency expressed in bytes should be converted to RGBA images\n",
            "  warnings.warn(\n"
          ]
        },
        {
          "output_type": "stream",
          "name": "stdout",
          "text": [
            "2/2 - 7s - loss: 0.7079 - accuracy: 0.4255 - val_loss: 0.6918 - val_accuracy: 0.4681 - 7s/epoch - 3s/step\n",
            "Epoch 4/13\n",
            "2/2 - 8s - loss: 0.6956 - accuracy: 0.4375 - val_loss: 0.6872 - val_accuracy: 0.5319 - 8s/epoch - 4s/step\n",
            "Epoch 5/13\n",
            "2/2 - 8s - loss: 0.6820 - accuracy: 0.6094 - val_loss: 0.6814 - val_accuracy: 0.5319 - 8s/epoch - 4s/step\n",
            "Epoch 6/13\n",
            "2/2 - 7s - loss: 0.6812 - accuracy: 0.5532 - val_loss: 0.6770 - val_accuracy: 0.5319 - 7s/epoch - 3s/step\n",
            "Epoch 7/13\n",
            "2/2 - 8s - loss: 0.6477 - accuracy: 0.6562 - val_loss: 0.6573 - val_accuracy: 0.6809 - 8s/epoch - 4s/step\n",
            "Epoch 8/13\n",
            "2/2 - 8s - loss: 0.6172 - accuracy: 0.7188 - val_loss: 0.7181 - val_accuracy: 0.4894 - 8s/epoch - 4s/step\n",
            "Epoch 9/13\n",
            "2/2 - 6s - loss: 0.6709 - accuracy: 0.4894 - val_loss: 0.6144 - val_accuracy: 0.6596 - 6s/epoch - 3s/step\n",
            "Epoch 10/13\n",
            "2/2 - 8s - loss: 0.5642 - accuracy: 0.7344 - val_loss: 0.5924 - val_accuracy: 0.6596 - 8s/epoch - 4s/step\n",
            "Epoch 11/13\n",
            "2/2 - 8s - loss: 0.5746 - accuracy: 0.7344 - val_loss: 0.6245 - val_accuracy: 0.6596 - 8s/epoch - 4s/step\n",
            "Epoch 12/13\n",
            "2/2 - 9s - loss: 0.5322 - accuracy: 0.7812 - val_loss: 0.7319 - val_accuracy: 0.5745 - 9s/epoch - 5s/step\n",
            "Epoch 13/13\n",
            "2/2 - 7s - loss: 0.5668 - accuracy: 0.7447 - val_loss: 0.4717 - val_accuracy: 0.8723 - 7s/epoch - 3s/step\n"
          ]
        }
      ]
    },
    {
      "cell_type": "code",
      "source": [],
      "metadata": {
        "id": "f0Tgcqni4oNW"
      },
      "execution_count": null,
      "outputs": []
    },
    {
      "cell_type": "code",
      "source": [
        "import matplotlib.pyplot as plt\n",
        "acc = history.history['accuracy']\n",
        "val_acc = history.history['val_accuracy']\n",
        "loss = history.history['loss']\n",
        "val_loss = history.history['val_loss']\n",
        "\n",
        "epochs = range(len(acc))\n",
        "plt.plot(epochs, acc, 'r', label='Training Accuracy')\n",
        "plt.plot(epochs, val_acc, 'b', label='Validation Accuracy')\n",
        "plt.title('Training and Validation Accuracy')\n",
        "plt.legend(loc=0)\n",
        "plt.figure()\n",
        "plt.show()\n",
        "plt.plot(epochs, loss, 'r', label='Loss Training')\n",
        "plt.plot(epochs, val_loss, 'b', label='Loss Validation')\n",
        "plt.title('Training and Validation Accuracy')\n",
        "plt.legend(loc=0)\n",
        "plt.figure()\n",
        "plt.show()"
      ],
      "metadata": {
        "id": "JaV9dXdAXm2L",
        "colab": {
          "base_uri": "https://localhost:8080/",
          "height": 580
        },
        "outputId": "a13f60bf-e161-411c-f4e5-8aaee2dcc1bf"
      },
      "execution_count": null,
      "outputs": [
        {
          "output_type": "display_data",
          "data": {
            "text/plain": [
              "<Figure size 432x288 with 1 Axes>"
            ],
            "image/png": "[encoded data removed]"
          },
          "metadata": {
            "needs_background": "light"
          }
        },
        {
          "output_type": "display_data",
          "data": {
            "text/plain": [
              "<Figure size 432x288 with 0 Axes>"
            ]
          },
          "metadata": {}
        },
        {
          "output_type": "display_data",
          "data": {
            "text/plain": [
              "<Figure size 432x288 with 1 Axes>"
            ],
            "image/png": "[encoded data removed]"
          },
          "metadata": {
            "needs_background": "light"
          }
        },
        {
          "output_type": "display_data",
          "data": {
            "text/plain": [
              "<Figure size 432x288 with 0 Axes>"
            ]
          },
          "metadata": {}
        }
      ]
    },
    {
      "cell_type": "code",
      "source": [
        "#save model\n",
        "import pickle\n",
        "\n",
        "pkl_filename = \"model.pkl\"\n",
        "with open(pkl_filename, 'wb') as file:\n",
        "    pickle.dump(model, file)"
      ],
      "metadata": {
        "id": "ZI97czItHNEh",
        "colab": {
          "base_uri": "https://localhost:8080/"
        },
        "outputId": "27f4764e-6291-4f7b-89cf-61fc8def204a"
      },
      "execution_count": null,
      "outputs": [
        {
          "output_type": "stream",
          "name": "stderr",
          "text": [
            "WARNING:absl:Found untraced functions such as _jit_compiled_convolution_op, _jit_compiled_convolution_op, _jit_compiled_convolution_op, _jit_compiled_convolution_op while saving (showing 4 of 4). These functions will not be directly callable after loading.\n"
          ]
        }
      ]
    },
    {
      "cell_type": "code",
      "source": [
        "import numpy as np\n",
        "from google.colab import files\n",
        "from tensorflow.keras.preprocessing import image\n",
        "import matplotlib.pyplot as plt\n",
        "import matplotlib.image as mpimg\n",
        "%matplotlib inline\n",
        "\n",
        "uploaded = files.upload()\n",
        "\n",
        "for fn in uploaded.keys():\n",
        "\n",
        "  # predicting images\n",
        "  path = fn\n",
        "  img = image.load_img(path, target_size=(150,150))\n",
        "\n",
        "  imgplot = plt.imshow(img)\n",
        "  x = image.img_to_array(img)\n",
        "  x = np.expand_dims(x, axis=0)\n",
        "  images = np.vstack([x])\n",
        "\n",
        "  classes = model.predict(images, batch_size=10)\n",
        "  print(fn)\n",
        "  if classes==0:\n",
        "   print('Piring')\n",
        "  else:\n",
        "    print(\"Sendok\")"
      ],
      "metadata": {
        "id": "A-aCOJ8sX8Vs",
        "colab": {
          "base_uri": "https://localhost:8080/",
          "height": 377
        },
        "outputId": "c45c56dd-ee2a-470e-bd77-e7bd78f03dd8"
      },
      "execution_count": null,
      "outputs": [
        {
          "output_type": "display_data",
          "data": {
            "text/plain": [
              "<IPython.core.display.HTML object>"
            ],
            "text/html": [
              "\n",
              "     <input type=\"file\" id=\"files-c5a37653-1f90-4d0e-9219-532a55f16cd5\" name=\"files[]\" multiple disabled\n",
              "        style=\"border:none\" />\n",
              "     <output id=\"result-c5a37653-1f90-4d0e-9219-532a55f16cd5\">\n",
              "      Upload widget is only available when the cell has been executed in the\n",
              "      current browser session. Please rerun this cell to enable.\n",
              "      </output>\n",
              "      <script>// Copyright 2017 Google LLC\n",
              "//\n",
              "// Licensed under the Apache License, Version 2.0 (the \"License\");\n",
              "// you may not use this file except in compliance with the License.\n",
              "// You may obtain a copy of the License at\n",
              "//\n",
              "//      http://www.apache.org/licenses/LICENSE-2.0\n",
              "//\n",
              "// Unless required by applicable law or agreed to in writing, software\n",
              "// distributed under the License is distributed on an \"AS IS\" BASIS,\n",
              "// WITHOUT WARRANTIES OR CONDITIONS OF ANY KIND, either express or implied.\n",
              "// See the License for the specific language governing permissions and\n",
              "// limitations under the License.\n",
              "\n",
              "/**\n",
              " * @fileoverview Helpers for google.colab Python module.\n",
              " */\n",
              "(function(scope) {\n",
              "function span(text, styleAttributes = {}) {\n",
              "  const element = document.createElement('span');\n",
              "  element.textContent = text;\n",
              "  for (const key of Object.keys(styleAttributes)) {\n",
              "    element.style[key] = styleAttributes[key];\n",
              "  }\n",
              "  return element;\n",
              "}\n",
              "\n",
              "// Max number of bytes which will be uploaded at a time.\n",
              "const MAX_PAYLOAD_SIZE = 100 * 1024;\n",
              "\n",
              "function _uploadFiles(inputId, outputId) {\n",
              "  const steps = uploadFilesStep(inputId, outputId);\n",
              "  const outputElement = document.getElementById(outputId);\n",
              "  // Cache steps on the outputElement to make it available for the next call\n",
              "  // to uploadFilesContinue from Python.\n",
              "  outputElement.steps = steps;\n",
              "\n",
              "  return _uploadFilesContinue(outputId);\n",
              "}\n",
              "\n",
              "// This is roughly an async generator (not supported in the browser yet),\n",
              "// where there are multiple asynchronous steps and the Python side is going\n",
              "// to poll for completion of each step.\n",
              "// This uses a Promise to block the python side on completion of each step,\n",
              "// then passes the result of the previous step as the input to the next step.\n",
              "function _uploadFilesContinue(outputId) {\n",
              "  const outputElement = document.getElementById(outputId);\n",
              "  const steps = outputElement.steps;\n",
              "\n",
              "  const next = steps.next(outputElement.lastPromiseValue);\n",
              "  return Promise.resolve(next.value.promise).then((value) => {\n",
              "    // Cache the last promise value to make it available to the next\n",
              "    // step of the generator.\n",
              "    outputElement.lastPromiseValue = value;\n",
              "    return next.value.response;\n",
              "  });\n",
              "}\n",
              "\n",
              "/**\n",
              " * Generator function which is called between each async step of the upload\n",
              " * process.\n",
              " * @param {string} inputId Element ID of the input file picker element.\n",
              " * @param {string} outputId Element ID of the output display.\n",
              " * @return {!Iterable<!Object>} Iterable of next steps.\n",
              " */\n",
              "function* uploadFilesStep(inputId, outputId) {\n",
              "  const inputElement = document.getElementById(inputId);\n",
              "  inputElement.disabled = false;\n",
              "\n",
              "  const outputElement = document.getElementById(outputId);\n",
              "  outputElement.innerHTML = '';\n",
              "\n",
              "  const pickedPromise = new Promise((resolve) => {\n",
              "    inputElement.addEventListener('change', (e) => {\n",
              "      resolve(e.target.files);\n",
              "    });\n",
              "  });\n",
              "\n",
              "  const cancel = document.createElement('button');\n",
              "  inputElement.parentElement.appendChild(cancel);\n",
              "  cancel.textContent = 'Cancel upload';\n",
              "  const cancelPromise = new Promise((resolve) => {\n",
              "    cancel.onclick = () => {\n",
              "      resolve(null);\n",
              "    };\n",
              "  });\n",
              "\n",
              "  // Wait for the user to pick the files.\n",
              "  const files = yield {\n",
              "    promise: Promise.race([pickedPromise, cancelPromise]),\n",
              "    response: {\n",
              "      action: 'starting',\n",
              "    }\n",
              "  };\n",
              "\n",
              "  cancel.remove();\n",
              "\n",
              "  // Disable the input element since further picks are not allowed.\n",
              "  inputElement.disabled = true;\n",
              "\n",
              "  if (!files) {\n",
              "    return {\n",
              "      response: {\n",
              "        action: 'complete',\n",
              "      }\n",
              "    };\n",
              "  }\n",
              "\n",
              "  for (const file of files) {\n",
              "    const li = document.createElement('li');\n",
              "    li.append(span(file.name, {fontWeight: 'bold'}));\n",
              "    li.append(span(\n",
              "        `(${file.type || 'n/a'}) - ${file.size} bytes, ` +\n",
              "        `last modified: ${\n",
              "            file.lastModifiedDate ? file.lastModifiedDate.toLocaleDateString() :\n",
              "                                    'n/a'} - `));\n",
              "    const percent = span('0% done');\n",
              "    li.appendChild(percent);\n",
              "\n",
              "    outputElement.appendChild(li);\n",
              "\n",
              "    const fileDataPromise = new Promise((resolve) => {\n",
              "      const reader = new FileReader();\n",
              "      reader.onload = (e) => {\n",
              "        resolve(e.target.result);\n",
              "      };\n",
              "      reader.readAsArrayBuffer(file);\n",
              "    });\n",
              "    // Wait for the data to be ready.\n",
              "    let fileData = yield {\n",
              "      promise: fileDataPromise,\n",
              "      response: {\n",
              "        action: 'continue',\n",
              "      }\n",
              "    };\n",
              "\n",
              "    // Use a chunked sending to avoid message size limits. See b/62115660.\n",
              "    let position = 0;\n",
              "    do {\n",
              "      const length = Math.min(fileData.byteLength - position, MAX_PAYLOAD_SIZE);\n",
              "      const chunk = new Uint8Array(fileData, position, length);\n",
              "      position += length;\n",
              "\n",
              "      const base64 = btoa(String.fromCharCode.apply(null, chunk));\n",
              "      yield {\n",
              "        response: {\n",
              "          action: 'append',\n",
              "          file: file.name,\n",
              "          data: base64,\n",
              "        },\n",
              "      };\n",
              "\n",
              "      let percentDone = fileData.byteLength === 0 ?\n",
              "          100 :\n",
              "          Math.round((position / fileData.byteLength) * 100);\n",
              "      percent.textContent = `${percentDone}% done`;\n",
              "\n",
              "    } while (position < fileData.byteLength);\n",
              "  }\n",
              "\n",
              "  // All done.\n",
              "  yield {\n",
              "    response: {\n",
              "      action: 'complete',\n",
              "    }\n",
              "  };\n",
              "}\n",
              "\n",
              "scope.google = scope.google || {};\n",
              "scope.google.colab = scope.google.colab || {};\n",
              "scope.google.colab._files = {\n",
              "  _uploadFiles,\n",
              "  _uploadFilesContinue,\n",
              "};\n",
              "})(self);\n",
              "</script> "
            ]
          },
          "metadata": {}
        },
        {
          "output_type": "stream",
          "name": "stdout",
          "text": [
            "Saving Image_42.jpg to Image_42.jpg\n",
            "1/1 [==============================] - 0s 149ms/step\n",
            "Image_42.jpg\n",
            "Piring\n"
          ]
        },
        {
          "output_type": "display_data",
          "data": {
            "text/plain": [
              "<Figure size 432x288 with 1 Axes>"
            ],
            "image/png": "[encoded data removed]"
          },
          "metadata": {
            "needs_background": "light"
          }
        }
      ]
    },
    {
      "cell_type": "code",
      "source": [],
      "metadata": {
        "id": "Uv12BmiDt2OP"
      },
      "execution_count": null,
      "outputs": []
    }
  ]
}